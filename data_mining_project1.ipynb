{
 "cells": [
  {
   "cell_type": "code",
   "execution_count": null,
   "metadata": {
    "ExecuteTime": {
     "end_time": "2020-05-02T13:23:11.296586Z",
     "start_time": "2020-05-02T13:23:10.932321Z"
    },
    "hidden": true,
    "id": "fsGkgAXgNsec",
    "scrolled": false
   },
   "outputs": [],
   "source": [
    "# defining necessary libraries\n",
    "import numpy as np\n",
    "import pandas as pd\n",
    "import timeit\n",
    "from sklearn import preprocessing\n",
    "from sklearn.model_selection import train_test_split\n",
    "from sklearn.neural_network import MLPClassifier\n",
    "from sklearn.metrics import classification_report, confusion_matrix\n",
    "from sklearn.naive_bayes import GaussianNB\n",
    "from sklearn.metrics import classification_report, confusion_matrix\n",
    "from sklearn.model_selection import GridSearchCV\n",
    "from sklearn.svm import SVC\n",
    "from sklearn.tree import DecisionTreeClassifier \n",
    "from sklearn.metrics import accuracy_score\n",
    "from sklearn.tree import DecisionTreeClassifier \n",
    "from sklearn.ensemble import BaggingClassifier\n",
    "from sklearn.ensemble import GradientBoostingClassifier\n",
    "from sklearn.ensemble import RandomForestClassifier\n",
    "from sklearn.model_selection import RepeatedStratifiedKFold\n",
    "from sklearn.model_selection import cross_val_score"
   ]
  },
  {
   "cell_type": "code",
   "execution_count": null,
   "metadata": {
    "colab": {
     "base_uri": "https://localhost:8080/",
     "height": 373
    },
    "id": "92zcA7uB-D-O",
    "outputId": "dcc6bbf6-44ad-4e29-db20-f18e11433890"
   },
   "outputs": [],
   "source": [
    "# Read corresponding data from dataset and\n",
    "# keep it as a data frame by pandas library\n",
    "filename = \"Frogs_MFCCs.csv\"\n",
    "df = pd.read_csv(filename)\n",
    "df.head(10)"
   ]
  },
  {
   "cell_type": "markdown",
   "metadata": {
    "id": "25s9PXBBNseg"
   },
   "source": [
    "# Data Preprocessing "
   ]
  },
  {
   "cell_type": "code",
   "execution_count": null,
   "metadata": {
    "ExecuteTime": {
     "end_time": "2020-05-02T13:23:11.361832Z",
     "start_time": "2020-05-02T13:23:11.328665Z"
    },
    "hidden": true,
    "id": "4b91k8cuNsei",
    "scrolled": true
   },
   "outputs": [],
   "source": [
    "# delete unnecessary columns\n",
    "# these columns considered to be not having rich content which\n",
    "# may be used for later classification purposes (?: tekrar döneceğim buraya)\n",
    "del df[\"RecordID\"]\n",
    "del df['Family']\n",
    "del df['Genus']\n",
    "\n",
    "# seperate labels and feature columns\n",
    "X = df.iloc[:, 0:22] # #Takes all rows of all columns except the range 0:22\n",
    "y = df.select_dtypes(include=[object]) # a subset of the DataFrame’s columns only consisting of objects, which is \"species\" column\n",
    "\n",
    "# transforming categorical to numbers\n",
    "le = preprocessing.LabelEncoder() # Encode target labels with value between 0 and n_classes-1.\n",
    "y = y.apply(le.fit_transform) # Fit label encoder and return encoded labels\n",
    "\n",
    "# splitting dataset to train and test\n",
    "X_train, X_test, y_train, y_test = train_test_split(X, y, test_size = 0.30)"
   ]
  },
  {
   "cell_type": "markdown",
   "metadata": {
    "id": "hVf96SZn-D-T"
   },
   "source": [
    "## Gain ratio"
   ]
  },
  {
   "cell_type": "code",
   "execution_count": null,
   "metadata": {
    "colab": {
     "base_uri": "https://localhost:8080/"
    },
    "id": "PbtX1GMY-D-T",
    "outputId": "bed89407-392e-43c3-8e34-7392cb82ea6f"
   },
   "outputs": [],
   "source": [
    "# ID3 (Iterative Dichotomiser) decision tree algorithm uses information gain.\n",
    "# C4.5, an improvement of ID3, uses the Gain ratio.\n",
    "# Training phase\n",
    "start = timeit.default_timer()\n",
    "clf_entropy = DecisionTreeClassifier( criterion = \"entropy\") \n",
    "clf_entropy.fit(X_train, y_train)\n",
    "# Testing phase: predicting X_test values over our model\n",
    "y_pred_entropy = clf_entropy.predict(X_test)\n",
    "stop = timeit.default_timer()\n",
    "print('Runtime of default Gain Ratio: ', stop - start) \n",
    "\n",
    "# Evaluating cross validation\n",
    "# Repeats Stratified K-Fold n times with different randomization in each repetition.\n",
    "start = timeit.default_timer()\n",
    "cv_gr1 = RepeatedStratifiedKFold(n_splits=10, n_repeats=3, random_state=1)\n",
    "# Evaluate a score by cross-validation.\n",
    "# In this case return type: Array of accuracy scores\n",
    "scores_gr1 = cross_val_score(clf_entropy, X, y, scoring='accuracy', cv=cv_gr1)\n",
    "stop = timeit.default_timer()\n",
    "# Comparing results\n",
    "print(\"Confusion Matrix: \\n\", confusion_matrix(y_test, y_pred_entropy)) \n",
    "print(\"Accuracy : \", accuracy_score(y_test, y_pred_entropy)*100)\n",
    "print(\"Report: \\n\", classification_report(y_test, y_pred_entropy))\n",
    "print('Accuracy (cross validation): %.3f ' % (np.mean(scores_gr1)*100))\n",
    "print('Runtime of cross-validation applied Gain Ratio: ', stop - start)\n",
    "\n",
    "# Bagging ensemble method implementation\n",
    "start = timeit.default_timer()\n",
    "bagging_model_gr = BaggingClassifier(base_estimator=clf_entropy)\n",
    "bagging_model_gr.fit(X_train, y_train.values.ravel()) \n",
    "cv_gr = RepeatedStratifiedKFold(n_splits=10, n_repeats=3, random_state=1)\n",
    "scores_gr = cross_val_score(bagging_model_gr, X, y.values.ravel(), scoring='accuracy', cv=cv_gr)\n",
    "bgg_pred_gr = bagging_model_gr.predict(X_test)\n",
    "stop = timeit.default_timer()\n",
    "print(\"Confusion Matrix: \\n\", confusion_matrix(y_test, bgg_pred_gr)) \n",
    "print(\"Accuracy : \", accuracy_score(y_test, bgg_pred_gr)*100)\n",
    "print(\"Report: \\n\", classification_report(y_test, bgg_pred_gr))\n",
    "print('Accuracy (cross validation): %.3f ' % (np.mean(scores_gr)*100))\n",
    "print('Runtime of cross-validation and bagging ensemble applied Gain Ratio: ', stop - start)\n",
    "\n",
    "# Boosting ensemble method implementation\n",
    "start = timeit.default_timer()\n",
    "boosting_model_gr = GradientBoostingClassifier(init=clf_entropy)\n",
    "boosting_model_gr.fit(X_train, y_train.values.ravel()) \n",
    "cv_bst_gr = RepeatedStratifiedKFold(n_splits=10, n_repeats=3, random_state=1)\n",
    "scores_bst_gr = cross_val_score(boosting_model_gr, X, y.values.ravel(), scoring='accuracy', cv=cv_bst_gr)\n",
    "bst_pred_gr = boosting_model_gr.predict(X_test)\n",
    "stop = timeit.default_timer()\n",
    "print(\"Confusion Matrix: \\n\", confusion_matrix(y_test, bst_pred_gr)) \n",
    "print(\"Accuracy : \", accuracy_score(y_test, bst_pred_gr)*100)\n",
    "print(\"Report: \\n\", classification_report(y_test, bst_pred_gr))\n",
    "print('Accuracy (cross validation): %.3f ' % (np.mean(scores_bst_gr)*100))\n",
    "print('Runtime of cross-validation and boosting ensemble applied Gain Ratio: ', stop - start)"
   ]
  },
  {
   "cell_type": "markdown",
   "metadata": {
    "id": "qzCzS1oa-D-U"
   },
   "source": [
    "## Gini index"
   ]
  },
  {
   "cell_type": "code",
   "execution_count": null,
   "metadata": {
    "colab": {
     "base_uri": "https://localhost:8080/"
    },
    "id": "US42oSI1-D-U",
    "outputId": "7c8b6303-1a69-4750-9d41-4ac4fd0b5ed3"
   },
   "outputs": [],
   "source": [
    "start = timeit.default_timer()\n",
    "clf_gini = DecisionTreeClassifier(criterion = \"gini\")\n",
    "clf_gini.fit(X_train, y_train)\n",
    "y_pred_gini = clf_gini.predict(X_test)\n",
    "stop = timeit.default_timer()\n",
    "print('Runtime of default Gini Index: ', stop - start)\n",
    "start = timeit.default_timer()\n",
    "cv_gini1 = RepeatedStratifiedKFold(n_splits=10, n_repeats=3, random_state=1)\n",
    "scores_gini1 = cross_val_score(clf_gini, X, y, scoring='accuracy', cv=cv_gini1)\n",
    "stop = timeit.default_timer()\n",
    "print(\"Confusion Matrix: \\n\", confusion_matrix(y_test, y_pred_gini)) \n",
    "print(\"Accuracy : \", accuracy_score(y_test, y_pred_gini)*100)\n",
    "print(\"Report: \\n\", classification_report(y_test, y_pred_gini))\n",
    "print('Accuracy (cross validation): %.3f ' % (np.mean(scores_gini1)*100))\n",
    "print('Runtime of cross-validation applied Gini Index: ', stop - start)\n",
    "\n",
    "# Bagging ensemble method implementation\n",
    "start = timeit.default_timer()\n",
    "bagging_model_gini = BaggingClassifier(base_estimator=clf_gini)\n",
    "bagging_model_gini.fit(X_train, y_train.values.ravel()) \n",
    "cv_gini = RepeatedStratifiedKFold(n_splits=10, n_repeats=3, random_state=1)\n",
    "scores_gini = cross_val_score(bagging_model_gini, X, y.values.ravel(), scoring='accuracy', cv=cv_gini)\n",
    "bgg_pred_gini = bagging_model_gini.predict(X_test)\n",
    "stop = timeit.default_timer()\n",
    "print(\"Confusion Matrix: \\n\", confusion_matrix(y_test, bgg_pred_gini)) \n",
    "print(\"Accuracy : \", accuracy_score(y_test, bgg_pred_gini)*100)\n",
    "print(\"Report: \\n\", classification_report(y_test, bgg_pred_gini))\n",
    "print('Accuracy (cross validation): %.3f ' % (np.mean(scores_gini)*100))\n",
    "print('Runtime of cross-validation and bagging ensemble applied Gini Index: ', stop - start)\n",
    "\n",
    "# Boosting ensemble method implementation\n",
    "start = timeit.default_timer()\n",
    "boosting_model_gini = GradientBoostingClassifier(init=clf_gini)\n",
    "boosting_model_gini.fit(X_train, y_train.values.ravel()) \n",
    "cv_bst_gini = RepeatedStratifiedKFold(n_splits=10, n_repeats=3, random_state=1)\n",
    "scores_bst_gini = cross_val_score(boosting_model_gini, X, y.values.ravel(), scoring='accuracy', cv=cv_bst_gini)\n",
    "bst_pred_gini = boosting_model_gini.predict(X_test)\n",
    "stop = timeit.default_timer()\n",
    "print(\"Confusion Matrix: \\n\", confusion_matrix(y_test, bst_pred_gini)) \n",
    "print(\"Accuracy : \", accuracy_score(y_test, bst_pred_gini)*100)\n",
    "print(\"Report: \\n\", classification_report(y_test, bst_pred_gini))\n",
    "print('Accuracy (cross validation): %.3f ' % (np.mean(scores_bst_gini)*100))\n",
    "print('Runtime of cross-validation and boosting ensemble applied Gini Index: ', stop - start)"
   ]
  },
  {
   "cell_type": "markdown",
   "metadata": {
    "heading_collapsed": true,
    "id": "wkpmsbC7Nsen"
   },
   "source": [
    "# Naive Bayes "
   ]
  },
  {
   "cell_type": "code",
   "execution_count": null,
   "metadata": {
    "ExecuteTime": {
     "end_time": "2020-05-02T14:36:42.546202Z",
     "start_time": "2020-05-02T14:36:33.147007Z"
    },
    "colab": {
     "base_uri": "https://localhost:8080/"
    },
    "hidden": true,
    "id": "vekMN3UiNseo",
    "outputId": "ff22d3c8-68c0-4913-957b-89487edf1ecd"
   },
   "outputs": [],
   "source": [
    "start = timeit.default_timer()\n",
    "gnb = GaussianNB()\n",
    "gnb.fit(X_train, y_train.values.ravel())\n",
    "y_pred_gnb = gnb.predict(X_test)\n",
    "stop = timeit.default_timer()\n",
    "print(\"Confusion Matrix: \\n\", confusion_matrix(y_test, y_pred_gnb)) \n",
    "print(\"Accuracy : \", accuracy_score(y_test, y_pred_gnb)*100)\n",
    "print(\"Report: \\n\", classification_report(y_test, y_pred_gnb))\n",
    "print('Runtime of default Naive Bayes: ', stop - start)\n",
    "\n",
    "# Bagging ensemble method implementation\n",
    "start = timeit.default_timer()\n",
    "bagging_model_nb = BaggingClassifier(base_estimator=gnb)\n",
    "bagging_model_nb.fit(X_train, y_train.values.ravel()) \n",
    "cv_nb = RepeatedStratifiedKFold(n_splits=10, n_repeats=3, random_state=1)\n",
    "scores_nb = cross_val_score(bagging_model_nb, X, y.values.ravel(), scoring='accuracy', cv=cv_nb)\n",
    "bgg_pred_nb = bagging_model_nb.predict(X_test)\n",
    "stop = timeit.default_timer()\n",
    "print(\"Confusion Matrix: \\n\", confusion_matrix(y_test, bgg_pred_nb)) \n",
    "print(\"Accuracy : \", accuracy_score(y_test, bgg_pred_nb)*100)\n",
    "print(\"Report: \\n\", classification_report(y_test, bgg_pred_nb))\n",
    "print('Runtime of bagging ensemble applied Naive Bayes: ', stop - start)\n",
    "\n",
    "# Boosting ensemble method implementation\n",
    "start = timeit.default_timer()\n",
    "boosting_model_nb = GradientBoostingClassifier(init=gnb)\n",
    "boosting_model_nb.fit(X_train, y_train.values.ravel()) \n",
    "cv_bst_nb = RepeatedStratifiedKFold(n_splits=10, n_repeats=3, random_state=1)\n",
    "scores_bst_nb = cross_val_score(boosting_model_nb, X, y.values.ravel(), scoring='accuracy', cv=cv_bst_nb)\n",
    "bst_pred_nb = boosting_model_nb.predict(X_test)\n",
    "stop = timeit.default_timer()\n",
    "print(\"Confusion Matrix: \\n\", confusion_matrix(y_test, bst_pred_nb)) \n",
    "print(\"Accuracy : \", accuracy_score(y_test, bst_pred_nb)*100)\n",
    "print(\"Report: \\n\", classification_report(y_test, bst_pred_nb))\n",
    "print('Runtime of boosting ensemble applied Naive Bayes: ', stop - start)"
   ]
  },
  {
   "cell_type": "markdown",
   "metadata": {
    "heading_collapsed": true,
    "id": "YtA7DPV1Nsep"
   },
   "source": [
    "# Neural networks (1 hidden layer) "
   ]
  },
  {
   "cell_type": "code",
   "execution_count": null,
   "metadata": {
    "colab": {
     "base_uri": "https://localhost:8080/"
    },
    "id": "uvmvY8UQ-D-W",
    "outputId": "6dda8f90-de7f-45c2-b646-21e55ffbefe4"
   },
   "outputs": [],
   "source": [
    "start = timeit.default_timer()\n",
    "mlp = MLPClassifier(hidden_layer_sizes=(150,), activation='relu', solver='adam', max_iter=1000)\n",
    "mlp.fit(X_train, y_train.values.ravel())\n",
    "y_pred_nn = mlp.predict(X_test)\n",
    "stop = timeit.default_timer()\n",
    "print(\"Confusion Matrix: \\n\", confusion_matrix(y_test, y_pred_nn)) \n",
    "print(\"Accuracy : \", accuracy_score(y_test, y_pred_nn)*100)\n",
    "print(\"Report: \\n\", classification_report(y_test, y_pred_nn))\n",
    "print('Runtime of default Neural Network: ', stop - start)\n",
    "\n",
    "# Bagging ensemble method implementation\n",
    "start = timeit.default_timer()\n",
    "bagging_model_nn = BaggingClassifier(base_estimator=mlp)\n",
    "bagging_model_nn.fit(X_train, y_train.values.ravel()) \n",
    "cv_nn = RepeatedStratifiedKFold(n_splits=10, n_repeats=3, random_state=1)\n",
    "scores_nn = cross_val_score(bagging_model_nn, X, y.values.ravel(), scoring='accuracy', cv=cv_nn)\n",
    "bgg_pred_nn = bagging_model_nn.predict(X_test)\n",
    "stop = timeit.default_timer()\n",
    "print(\"Confusion Matrix: \\n\", confusion_matrix(y_test, bgg_pred_nn)) \n",
    "print(\"Accuracy : \", accuracy_score(y_test, bgg_pred_nn)*100)\n",
    "print(\"Report: \\n\", classification_report(y_test, bgg_pred_nn))\n",
    "print('Runtime of bagging ensemble applied Neural Network: ', stop - start)\n",
    "\n",
    "# Boosting ensemble method implementation\n",
    "start = timeit.default_timer()\n",
    "boosting_model_nn = GradientBoostingClassifier(init=mlp)\n",
    "boosting_model_nn.fit(X_train, y_train.values.ravel()) \n",
    "cv_bst_nn = RepeatedStratifiedKFold(n_splits=10, n_repeats=3, random_state=1)\n",
    "scores_bst_nn = cross_val_score(boosting_model_nn, X, y.values.ravel(), scoring='accuracy', cv=cv_bst_nn)\n",
    "bst_pred_nn = boosting_model_nn.predict(X_test)\n",
    "stop = timeit.default_timer()\n",
    "print(\"Confusion Matrix: \\n\", confusion_matrix(y_test, bst_pred_nn)) \n",
    "print(\"Accuracy : \", accuracy_score(y_test, bst_pred_nn)*100)\n",
    "print(\"Report: \\n\", classification_report(y_test, bst_pred_nn))\n",
    "print('Runtime of boosting ensemble applied Neural Network: ', stop - start)"
   ]
  },
  {
   "cell_type": "markdown",
   "metadata": {
    "id": "XQu04nqf-D-W"
   },
   "source": [
    "# Neural networks (2 hidden layers) "
   ]
  },
  {
   "cell_type": "code",
   "execution_count": null,
   "metadata": {
    "id": "zyeN_y9D-D-X"
   },
   "outputs": [],
   "source": [
    "start = timeit.default_timer()\n",
    "mlp2 = MLPClassifier(hidden_layer_sizes=(75, 75), activation='relu', solver='adam', max_iter=1000)\n",
    "mlp2.fit(X_train, y_train.values.ravel())\n",
    "y_pred_nn2 = mlp2.predict(X_test)\n",
    "stop = timeit.default_timer()\n",
    "print(\"Confusion Matrix: \\n\", confusion_matrix(y_test, y_pred_nn2)) \n",
    "print(\"Accuracy : \", accuracy_score(y_test, y_pred_nn2)*100)\n",
    "print(\"Report: \\n\", classification_report(y_test, y_pred_nn2))\n",
    "print('Runtime of default Neural Network (2 hidden layers): ', stop - start)\n",
    "\n",
    "# Bagging ensemble method implementation\n",
    "start = timeit.default_timer()\n",
    "bagging_model_nn2 = BaggingClassifier(base_estimator=mlp2)\n",
    "bagging_model_nn2.fit(X_train, y_train.values.ravel()) \n",
    "bgg_pred_nn2 = bagging_model_nn2.predict(X_test)\n",
    "stop = timeit.default_timer()\n",
    "print(\"Confusion Matrix: \\n\", confusion_matrix(y_test, bgg_pred_nn2)) \n",
    "print(\"Accuracy : \", accuracy_score(y_test, bgg_pred_nn2)*100)\n",
    "print(\"Report: \\n\", classification_report(y_test, bgg_pred_nn2))\n",
    "print('Runtime of bagging ensemble applied Neural Network (2 hidden layers): ', stop - start)\n",
    "\n",
    "# Boosting ensemble method implementation\n",
    "start = timeit.default_timer()\n",
    "boosting_model_nn2 = GradientBoostingClassifier(init=mlp2)\n",
    "boosting_model_nn2.fit(X_train, y_train.values.ravel()) \n",
    "bst_pred_nn2 = boosting_model_nn2.predict(X_test)\n",
    "stop = timeit.default_timer()\n",
    "print(\"Confusion Matrix: \\n\", confusion_matrix(y_test, bst_pred_nn2)) \n",
    "print(\"Accuracy : \", accuracy_score(y_test, bst_pred_nn2)*100)\n",
    "print(\"Report: \\n\", classification_report(y_test, bst_pred_nn2))\n",
    "print('Runtime of boosting ensemble applied Neural Network (2 hidden layers): ', stop - start)"
   ]
  },
  {
   "cell_type": "markdown",
   "metadata": {
    "id": "-1Hsv3ttNseq"
   },
   "source": [
    "# Support Vector Machine "
   ]
  },
  {
   "cell_type": "code",
   "execution_count": null,
   "metadata": {
    "ExecuteTime": {
     "end_time": "2020-05-02T15:32:56.378368Z",
     "start_time": "2020-05-02T15:30:05.847332Z"
    },
    "id": "ippaf8m0Nser",
    "scrolled": false
   },
   "outputs": [],
   "source": [
    "# Create the parameter grid based on the results of random search \n",
    "start = timeit.default_timer()\n",
    "params_grid = [{'kernel': ['rbf', 'poly', 'sigmoid', 'linear'], \n",
    "                'gamma': [1, 1e-1, 1e-2, 1e-3, 1e-4],\n",
    "                 'C': [1, 10, 100, 1000]}]\n",
    "svm_model = GridSearchCV(SVC(), params_grid)\n",
    "svm_model.fit(X_train, y_train.values.ravel())\n",
    "\n",
    "final_model = svm_model.best_estimator_\n",
    "y_pred_final = final_model.predict(X_test)\n",
    "stop = timeit.default_timer()\n",
    "\n",
    "print(\"Confusion Matrix: \\n\", confusion_matrix(y_test, y_pred_final)) \n",
    "print(\"Report: \\n\", classification_report(y_test, y_pred_final))\n",
    "print('Best C:',svm_model.best_estimator_.C) \n",
    "print('Best Kernel:',svm_model.best_estimator_.kernel)\n",
    "print('Best Gamma:',svm_model.best_estimator_.gamma)\n",
    "print('Best accuracy score :', svm_model.best_score_) \n",
    "print(\"Score (training set): %f\" % final_model.score(X_train, y_train))\n",
    "print(\"Score (testing set): %f\" % final_model.score(X_test, y_test))\n",
    "print('Runtime of default SVM: ', stop - start)\n",
    "\n",
    "# Bagging ensemble method implementation\n",
    "start = timeit.default_timer()\n",
    "bagging_model_svm = BaggingClassifier(base_estimator=final_model)\n",
    "bagging_model_svm.fit(X_train, y_train.values.ravel()) \n",
    "bgg_pred_svm = bagging_model_svm.predict(X_test)\n",
    "stop = timeit.default_timer()\n",
    "print(\"Confusion Matrix: \\n\", confusion_matrix(y_test, bgg_pred_svm)) \n",
    "print(\"Accuracy : \", accuracy_score(y_test, bgg_pred_svm)*100)\n",
    "print(\"Report: \\n\", classification_report(y_test, bgg_pred_svm))\n",
    "print('Runtime of bagging ensemble applied SVM: ', stop - start)\n",
    "\n",
    "# Boosting ensemble method implementation\n",
    "start = timeit.default_timer()\n",
    "boosting_model_svm = GradientBoostingClassifier(init=final_model)\n",
    "boosting_model_svm.fit(X_train, y_train.values.ravel()) \n",
    "bst_pred_svm = boosting_model_svm.predict(X_test)\n",
    "stop = timeit.default_timer()\n",
    "print(\"Confusion Matrix: \\n\", confusion_matrix(y_test, bst_pred_svm)) \n",
    "print(\"Accuracy : \", accuracy_score(y_test, bst_pred_svm)*100)\n",
    "print(\"Report: \\n\", classification_report(y_test, bst_pred_svm))"
   ]
  }
 ],
 "metadata": {
  "colab": {
   "collapsed_sections": [],
   "name": "data_mining_proje1 (1) (2).ipynb",
   "provenance": [],
   "toc_visible": true
  },
  "kernelspec": {
   "display_name": "Python 3",
   "language": "python",
   "name": "python3"
  },
  "language_info": {
   "codemirror_mode": {
    "name": "ipython",
    "version": 3
   },
   "file_extension": ".py",
   "mimetype": "text/x-python",
   "name": "python",
   "nbconvert_exporter": "python",
   "pygments_lexer": "ipython3",
   "version": "3.7.9"
  }
 },
 "nbformat": 4,
 "nbformat_minor": 1
}
